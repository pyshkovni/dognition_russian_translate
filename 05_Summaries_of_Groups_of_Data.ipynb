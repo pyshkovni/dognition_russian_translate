{
 "cells": [
  {
   "cell_type": "markdown",
   "metadata": {},
   "source": [
    "# Занятие 5: Группировка данных в запросе\n"
   ]
  },
  {
   "cell_type": "markdown",
   "metadata": {},
   "source": [
    "_TODO дополнить про интерфейс и запуск БД_\n",
    "\n",
    "_а пока воспользуйтесь следующей ссылкой_<br>\n",
    "http://84.201.167.29/phpmyadmin<br>\n",
    "пользователь: student<br>\n",
    "пароль: n123456789"
   ]
  },
  {
   "cell_type": "markdown",
   "metadata": {},
   "source": [
    "На данный момент вы узнали, как выбирать, переформатировать, манипулировать, упорядочивать и суммировать данные из одной таблицы в базе данных.  На этом уроке вы узнаете, как суммировать несколько подмножеств ваших данных в одном запросе.  Способ сделать это состоит в том, чтобы включить предложение \"GROUP BY\" в ваши SQL-запросы.\n",
    "\n",
    "<img src=\"images/structure5.png\" width=\"400px\"/>"
   ]
  },
  {
   "cell_type": "markdown",
   "metadata": {},
   "source": [
    "## GROUP BY для группировки результата запроса "
   ]
  },
  {
   "cell_type": "markdown",
   "metadata": {},
   "source": [
    "Предложение GROUP BY легко включить в ваши запросы.  На самом деле, это может быть слишком просто включить в запросы MySQL, потому что это может быть неправильно использовано в запросах MySQL, даже если сообщение об ошибке не отображается.  Как следствие, я предлагаю вам проявлять разумную дозу осторожности каждый раз, когда вы используете предложение GROUP BY.  К концу этого урока вы поймете почему.  Однако при правильном использовании функция GROUP BY является одной из наиболее полезных и эффективных частей SQL-запроса, и как только вы освоитесь с ней, вы будете использовать ее очень часто.\n",
    "<br><br>\n",
    "Давайте вернемся к вопросу из упражнения 4 по MySQL.  Как бы вы запросили среднюю оценку для каждого из 40 тестов в таблице отзывов? Как мы уже обсуждали, одним из очень неэффективных способов сделать это было бы написать 40 отдельных запросов, каждый из которых имел бы другое имя теста в условном предложении WHERE.  Затем вы могли бы скопировать или расшифровать результаты всех 40 запросов в одном месте.  Но это было бы не очень приятно.  Вот как вы могли бы сделать то же самое, используя один запрос, содержащий предложение GROUP BY.\n",
    "\n",
    "```mySQL\n",
    "SELECT test_name, AVG(rating) AS AVG_Rating\n",
    "FROM reviews\n",
    "GROUP BY test_name\n",
    "```\n",
    "\n",
    "Этот запрос выведет среднюю оценку для каждого теста.  Более технически, этот запрос даст указание MySQL усреднить все строки, которые имеют одинаковое значение в столбце test_name.\n",
    "\n",
    "Обратите внимание, что я включил test_name в инструкцию SELECT.  В качестве строгого эмпирического правила, если вы группируете по столбцу, вы также должны включить этот столбец в инструкцию SELECT.  Если вы этого не сделаете, вы не будете знать, какой группе соответствует каждая строка вашего вывода.\n",
    "Вы можете формировать группы, используя производные значения, а также исходные столбцы.  Чтобы проиллюстрировать это, давайте обратимся к другому вопросу: сколько тестов было выполнено в течение каждого месяца года?\n",
    "\n",
    "Функция MONTH() вернет число, представляющее месяц ввода данных. Чтобы получить общее количество тестов, выполненных за каждый месяц, вы могли бы поместить функцию MONTH в предложение GROUP BY, в данном случае через псевдоним:\n",
    "\n",
    "```mySQL\n",
    "SELECT test_name, MONTH(created_at) AS Month, COUNT(created_at) AS Num_Completed_Tests\n",
    "FROM complete_tests\n",
    "GROUP BY Month;\n",
    "```\n",
    "Вы также можете сгруппировать данные по нескольким столбцам или производным полям.  Если бы мы хотели определить общее количество тестов каждого типа, выполненных за каждый месяц, вы могли бы включить как \"имя_теста\", так и производное поле MONTH в предложение GROUP BY, разделенное запятой.\n",
    "\n",
    "```mySQL\n",
    "SELECT test_name, MONTH(created_at) AS Month, COUNT(created_at) AS Num_Completed_Tests\n",
    "FROM complete_tests\n",
    "GROUP BY test_name, Month;\n",
    "```\n",
    "MySQL позволяет вам использовать псевдонимы в предложении GROUP BY, но некоторые системы баз данных этого не делают.  Если вы используете систему баз данных, которая не принимает псевдонимы в предложениях GROUP BY, вы все равно можете сгруппировать по производным полям, но вам придется дублировать вычисление для производного поля в предложении GROUP BY в дополнение к включению производного поля в предложение SELECT:\n",
    "\n",
    "```mySQL\n",
    "SELECT test_name, MONTH(created_at) AS Month, COUNT(created_at) AS Num_Completed_Tests\n",
    "FROM complete_tests\n",
    "GROUP BY test_name, MONTH(created_at);\n",
    "```\n",
    "\n"
   ]
  },
  {
   "cell_type": "markdown",
   "metadata": {},
   "source": [
    "Обратите внимание, что в первом случае первый блок строк имеет одно и то же test_name, но разбит на отдельные месяцы.\n",
    "\n",
    "...\n",
    "\n",
    "```mySQL\n",
    "SELECT test_name, MONTH(created_at) AS Month, COUNT(created_at) AS Num_Completed_Tests\n",
    "FROM complete_tests\n",
    "GROUP BY test_name, Month\n",
    "ORDER BY test_name ASC, Month ASC;\n",
    "```\n"
   ]
  },
  {
   "cell_type": "markdown",
   "metadata": {},
   "source": [
    "### Вопрос 1."
   ]
  },
  {
   "cell_type": "markdown",
   "metadata": {},
   "source": [
    "**Составьте запрос, который выводит количество питомцев `dog_guid` девочек и мальчиков (значения в колонке `gender` _female_ и _male_) для каждой породы `breed` таблицы `dogs`, отсортированных по общему количеству собак в порядке убывания?**"
   ]
  },
  {
   "cell_type": "markdown",
   "metadata": {},
   "source": [
    "...\n",
    "\n",
    "```mySQL\n",
    "SELECT test_name, MONTH(created_at) AS Month, COUNT(created_at) AS Num_Completed_Tests\n",
    "```\n",
    "\n",
    "...\n",
    "\n",
    "```mySQL\n",
    "SELECT test_name, MONTH(created_at) AS Month, COUNT(created_at) AS Num_Completed_Tests\n",
    "FROM complete_tests\n",
    "GROUP BY 1, 2\n",
    "ORDER BY 1 ASC, 2 ASC;\n",
    "```\n"
   ]
  },
  {
   "cell_type": "markdown",
   "metadata": {},
   "source": [
    "### Вопрос 2."
   ]
  },
  {
   "cell_type": "markdown",
   "metadata": {},
   "source": [
    "**Измените запрос, который вы написали в вопросе 1, таким образом, чтобы в нем использовались только численые обозначения столбцов в полях GROUP BY и ORDER BY?**"
   ]
  },
  {
   "cell_type": "markdown",
   "metadata": {},
   "source": [
    "## The HAVING clause\n",
    "\n",
    "...\n",
    "\n",
    "```mySQL\n",
    "SELECT test_name, MONTH(created_at) AS Month, COUNT(created_at) AS Num_Completed_Tests\n",
    "FROM complete_tests\n",
    "WHERE MONTH(created_at)=11 OR MONTH(created_at)=12\n",
    "GROUP BY 1, 2\n",
    "ORDER BY 3 DESC;\n",
    "```\n",
    "...\n",
    "\n",
    "```mySQL\n",
    "SELECT test_name, MONTH(created_at) AS Month, COUNT(created_at) AS Num_Completed_Tests\n",
    "FROM complete_tests\n",
    "WHERE MONTH(created_at)=11 OR MONTH(created_at)=12\n",
    "GROUP BY 1, 2\n",
    "HAVING COUNT(created_at)>=20\n",
    "ORDER BY 3 DESC;\n",
    "```\n"
   ]
  },
  {
   "cell_type": "markdown",
   "metadata": {},
   "source": [
    "### Вопрос 3."
   ]
  },
  {
   "cell_type": "markdown",
   "metadata": {},
   "source": [
    "**Дополните запрос из вопроса 1, таким образом, чтобы:**\n",
    "* **запрос исключал пустые строковые записи в поле `breed_group`;**\n",
    "* **запрос исключал любые группы, в которых по крайней мере больше 1000  идентификаторов `dog_guid`.**"
   ]
  },
  {
   "cell_type": "markdown",
   "metadata": {},
   "source": [
    "## Ошибки сгруппированных запросов. Неправильные интерпретации из-за несоответствий агрегации"
   ]
  },
  {
   "cell_type": "markdown",
   "metadata": {},
   "source": [
    "...\n",
    "\n",
    "```mySQL\n",
    "SELECT breed_type, COUNT(DISTINCT dog_guid) AS NumDogs, weight\n",
    "FROM dogs\n",
    "GROUP BY breed_type;\n",
    "```\n",
    "\n",
    "...\n",
    "\n",
    "```mySQL\n",
    "SELECT test_name, MONTH(created_at) AS Month, COUNT(created_at) AS Num_Completed_Tests\n",
    "FROM complete_tests\n",
    "GROUP BY test_name\n",
    "ORDER BY test_name ASC, Month ASC;\n",
    "```\n",
    "\n",
    "...\n",
    "\n",
    "```mySQL\n",
    "SELECT test_name, MONTH(created_at) AS Month, COUNT(created_at) AS Num_Completed_Tests\n",
    "FROM complete_tests\n",
    "GROUP BY Month\n",
    "ORDER BY Month ASC, test_name ASC;\n",
    "```\n",
    "...\n",
    "\n",
    "```mySQL\n",
    "SELECT COUNT(DISTINCT dog_guid), breed_type, AVG(weight) AS avg_weight, \n",
    "FROM dogs\n",
    "GROUP BY breed_type;\n",
    "```"
   ]
  },
  {
   "cell_type": "markdown",
   "metadata": {},
   "source": [
    "## Практика темы 5"
   ]
  },
  {
   "cell_type": "markdown",
   "metadata": {},
   "source": [
    "### Вопрос 4."
   ]
  },
  {
   "cell_type": "markdown",
   "metadata": {},
   "source": [
    "**Напишите запрос для таблицы `dogs`, который выводит среднее количество выполненных тестов `total_tests_completed` и средний интервал между тестами `mean_iti_days` для каждого типа породы `breed_type`, отсортированный по среднему количеству выполненных тестов в порядке убывания**"
   ]
  },
  {
   "cell_type": "markdown",
   "metadata": {},
   "source": [
    "### Вопрос 5."
   ]
  },
  {
   "cell_type": "markdown",
   "metadata": {},
   "source": [
    "**Напишите запрос, который выводит среднюю разницу во времени в часах между `start_time` и `end_time`, которое пользователи тратили на выполнение каждого типа теста `test_name`. Запрос необходимо ограничить итервалом временной разницы от 0 до 6000 минут.**"
   ]
  },
  {
   "cell_type": "markdown",
   "metadata": {},
   "source": [
    "### Вопрос 6."
   ]
  },
  {
   "cell_type": "markdown",
   "metadata": {},
   "source": [
    "**Напишите запрос, который выводит количество уникальных идентификаторов `user_guid` для каждой комбинации штата `state` и почтового индекса `zip` в Соединенных Штатах (значение в `state` _US_), отсортированных сначала по названию штата `state` в алфавитном порядке, а затем по общему количеству уникальных идентификаторов `user_guid` в порядке убывания.**"
   ]
  },
  {
   "cell_type": "markdown",
   "metadata": {},
   "source": [
    "### Вопрос 7."
   ]
  },
  {
   "cell_type": "markdown",
   "metadata": {},
   "source": [
    "**Напишите запрос, который выведет общее количество уникальных идентификаторов `user_guid` для каждой комбинации штата `state` и почтового индекса `zip` в Соединенных Штатах (значение `state` _US_), в которых есть не менее 5 зарегистрированных пользователей, отсортированных сначала по названию штата в алфавитном порядке, а затем по количеству уникальных `user_guid` в порядке убывания.**"
   ]
  }
 ],
 "metadata": {
  "kernelspec": {
   "display_name": "Python 3",
   "language": "python",
   "name": "python3"
  },
  "language_info": {
   "codemirror_mode": {
    "name": "ipython",
    "version": 3
   },
   "file_extension": ".py",
   "mimetype": "text/x-python",
   "name": "python",
   "nbconvert_exporter": "python",
   "pygments_lexer": "ipython3",
   "version": "3.9.6"
  }
 },
 "nbformat": 4,
 "nbformat_minor": 1
}
