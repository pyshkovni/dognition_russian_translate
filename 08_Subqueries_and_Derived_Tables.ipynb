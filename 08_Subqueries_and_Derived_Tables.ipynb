{
 "cells": [
  {
   "cell_type": "markdown",
   "metadata": {},
   "source": [
    "# Занятие 8: Производные таблицы"
   ]
  },
  {
   "cell_type": "markdown",
   "metadata": {},
   "source": [
    "_TODO дополнить про интерфейс и запуск БД_\n",
    "\n",
    "_а пока воспользуйтесь следующей ссылкой_<br>\n",
    "http://84.201.167.29/phpmyadmin<br>\n",
    "пользователь: student<br>\n",
    "пароль: n123456789"
   ]
  },
  {
   "cell_type": "markdown",
   "metadata": {},
   "source": [
    "```MySQL\n",
    "SELECT COUNT(*) \n",
    "FROM dogs\n",
    "ORDER BY RAND()\n",
    "LIMIT 50\n",
    "```"
   ]
  },
  {
   "cell_type": "markdown",
   "metadata": {},
   "source": [
    "```MySQL\n",
    "SELECT COUNT(*) \n",
    "FROM (SELECT * FROM dogs ORDER BY RAND() LIMIT 50)\n",
    "```"
   ]
  }
 ],
 "metadata": {
  "kernelspec": {
   "display_name": "Python 3",
   "language": "python",
   "name": "python3"
  },
  "language_info": {
   "codemirror_mode": {
    "name": "ipython",
    "version": 3
   },
   "file_extension": ".py",
   "mimetype": "text/x-python",
   "name": "python",
   "nbconvert_exporter": "python",
   "pygments_lexer": "ipython3",
   "version": "3.9.6"
  }
 },
 "nbformat": 4,
 "nbformat_minor": 1
}
